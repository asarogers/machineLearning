{
 "cells": [
  {
   "cell_type": "code",
   "execution_count": 128,
   "id": "42a7e2cd",
   "metadata": {},
   "outputs": [
    {
     "name": "stdout",
     "output_type": "stream",
     "text": [
      "done\n"
     ]
    }
   ],
   "source": [
    "import pandas as pd\n",
    "import numpy as np\n",
    "import matplotlib.pyplot as plt\n",
    "from sklearn.model_selection import train_test_split\n",
    "from sklearn.ensemble import RandomForestClassifier\n",
    "from sklearn import metrics\n",
    "from sklearn.metrics import confusion_matrix, ConfusionMatrixDisplay\n",
    "import matplotlib.pyplot as plt\n",
    "from sklearn.neighbors import KNeighborsClassifier\n",
    "from warnings import simplefilter\n",
    "from ipaddress import IPv4Network\n",
    "import requests\n",
    "import seaborn as sns\n",
    "from sklearn.ensemble import RandomForestClassifier\n",
    "\n",
    "simplefilter(action='ignore', category=FutureWarning)\n",
    "\n",
    "index = 1\n",
    "dataset = [\"tester\", \"Friday-WorkingHours-Afternoon-DDos.pcap_ISCX\"]\n",
    "\n",
    "df = pd.read_csv(\"./dataset/MachineLearningCVE/\"+dataset[index]+ \".csv\")\n",
    "\n",
    "# if dataset[index] == \"tester\":\n",
    "#     df.drop([\"Flow ID\", \" Source IP\", \" Destination IP\", \" Timestamp\"], axis = 1, inplace = True)\n",
    "\n",
    "\n",
    "\n",
    "\n",
    "\n",
    "#convert good and bad to numbers\n",
    "df[\" Label\"].replace(\"BENIGN\", 0,  inplace = True)\n",
    "df[\" Label\"].replace(\"Bot\", 1,  inplace = True)\n",
    "df[\" Label\"].replace(\"DDoS\", 2, inplace = True)\n",
    "df[\" Label\"].replace(\"DoS Hulk\", 3, inplace = True)\n",
    "df[\" Label\"].replace(\"DoS Slow-httptest\", 4, inplace = True)\n",
    "df[\" Label\"].replace(\"FTP-Patator\", 5, inplace = True)\n",
    "df[\" Label\"].replace(\"Heartbleed\", 6, inplace = True)\n",
    "df[\" Label\"].replace(\"PortScan\", 7, inplace = True)\n",
    "df[\" Label\"].replace(\"SSH-Patator\", 8, inplace = True)\n",
    "df[\" Label\"].replace(\"DoS GoldenEye\", 9, inplace = True)\n",
    "df[\" Label\"].replace(\"DoS slowloris\", 10, inplace = True)\n",
    "df[\" Label\"].replace(\"Infiltration\", 11, inplace = True)\n",
    "df[\" Label\"].replace(\"Web Attack – Brute Force\", 12, inplace = True)\n",
    "df[\" Label\"].replace(\"Web Attack – Sql Injection \",13, inplace = True)\n",
    "df[\" Label\"].replace(\"DoS slowloris\", 14, inplace = True)\n",
    "df= df.replace([np.inf, -np.inf, np.nan, None], -999)\n",
    "\n",
    "\n",
    "# Define independent variables\n",
    "factors = df.iloc[ : , :-1].values \n",
    "\n",
    "\n",
    "\n",
    "# Define dependent variable\n",
    "labels=df.iloc[:,-1].values\n",
    "\n",
    "\n",
    "\n",
    "\n",
    "\n",
    "# check if there are any NAs in dataset\n",
    "pd.set_option(\"display.max_rows\", None)\n",
    "\n",
    "# print(df.dtypes)\n",
    "\n",
    "x_train, x_test, y_train, y_test = train_test_split(factors, labels, test_size = 0.55, random_state = 42)\n",
    "\n",
    "model = RandomForestClassifier(n_estimators = 10, random_state=30)\n",
    "model.fit(x_train.astype(np.float64), y_train)\n",
    "predict = model.predict(x_test)\n",
    "\n",
    "print(\"done\")\n"
   ]
  },
  {
   "cell_type": "code",
   "execution_count": 1,
   "id": "6fe1c54d",
   "metadata": {
    "scrolled": false
   },
   "outputs": [
    {
     "ename": "NameError",
     "evalue": "name 'KNeighborsClassifier' is not defined",
     "output_type": "error",
     "traceback": [
      "\u001b[1;31m---------------------------------------------------------------------------\u001b[0m",
      "\u001b[1;31mNameError\u001b[0m                                 Traceback (most recent call last)",
      "Cell \u001b[1;32mIn[1], line 2\u001b[0m\n\u001b[0;32m      1\u001b[0m \u001b[38;5;66;03m# train the model\u001b[39;00m\n\u001b[1;32m----> 2\u001b[0m clf \u001b[38;5;241m=\u001b[39m KNeighborsClassifier(n_neighbors\u001b[38;5;241m=\u001b[39m\u001b[38;5;241m8\u001b[39m)\n\u001b[0;32m      3\u001b[0m clf\u001b[38;5;241m.\u001b[39mfit(x_train, y_train)\n\u001b[0;32m      5\u001b[0m predictions \u001b[38;5;241m=\u001b[39m clf\u001b[38;5;241m.\u001b[39mpredict(x_test)\n",
      "\u001b[1;31mNameError\u001b[0m: name 'KNeighborsClassifier' is not defined"
     ]
    }
   ],
   "source": [
    "# train the model\n",
    "clf = KNeighborsClassifier(n_neighbors=8)\n",
    "clf.fit(x_train, y_train)\n",
    "\n",
    "predictions = clf.predict(x_test)\n",
    "\n",
    "y_probabilities = clf.predict_proba(x_test)\n",
    "threshold = .85  # Adjust this threshold as needed\n",
    "y_pred = (y_probabilities[:,0:1] <= threshold).astype(int)\n",
    "\n",
    "\n",
    "#get the original list labels\n",
    "original_labels = ['BENIGN', 'Bot', \"DDoS\", \"DoS Hulk\", \"DoS Slow-httptest\", \"FTP-Patator\", \n",
    "                 \"Heartbleed\", \"PortScan\", \"SSH-Patator\", \"DoS GoldenEye\", \"DoS slowloris\", \n",
    "                 \"Infiltration\", \"Web Attack – Brute Force\", \"Web Attack – Sql Injection \",\n",
    "                 \"DoS slowloris\"\n",
    "                ]\n",
    "# get the ones used in this model\n",
    "integer_labels = clf.classes_\n",
    "\n",
    "# create map array\n",
    "label_mapping  = []\n",
    "\n",
    "#iterate through the labels used and create map from them\n",
    "for i in range(len(integer_labels)):\n",
    "    label_mapping.append(original_labels[integer_labels[i]])\n",
    "\n",
    "\n",
    "matrix = confusion_matrix( y_test, predictions, labels=clf.classes_)\n",
    "disp = ConfusionMatrixDisplay(confusion_matrix=matrix, display_labels=label_mapping)\n",
    "\n",
    "disp.plot()\n",
    "plt.show()\n"
   ]
  },
  {
   "cell_type": "code",
   "execution_count": 85,
   "id": "b91509b6",
   "metadata": {},
   "outputs": [
    {
     "name": "stdout",
     "output_type": "stream",
     "text": [
      "124160 124160 works\n"
     ]
    }
   ],
   "source": [
    "print(len(predictions), len(y_pred))"
   ]
  },
  {
   "cell_type": "code",
   "execution_count": null,
   "id": "8031faee",
   "metadata": {},
   "outputs": [],
   "source": []
  }
 ],
 "metadata": {
  "kernelspec": {
   "display_name": "Python 3 (ipykernel)",
   "language": "python",
   "name": "python3"
  },
  "language_info": {
   "codemirror_mode": {
    "name": "ipython",
    "version": 3
   },
   "file_extension": ".py",
   "mimetype": "text/x-python",
   "name": "python",
   "nbconvert_exporter": "python",
   "pygments_lexer": "ipython3",
   "version": "3.11.4"
  }
 },
 "nbformat": 4,
 "nbformat_minor": 5
}
