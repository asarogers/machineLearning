{
 "cells": [
  {
   "cell_type": "code",
   "execution_count": 38,
   "id": "3e35a1a4",
   "metadata": {},
   "outputs": [
    {
     "name": "stdout",
     "output_type": "stream",
     "text": [
      "[0 0 0 ... 0 0 0]\n",
      "Accuracy = 99.98449578063745%\n"
     ]
    }
   ],
   "source": [
    "import pandas as pd\n",
    "import numpy as np\n",
    "import matplotlib.pyplot as plt\n",
    "from sklearn.model_selection import train_test_split\n",
    "from sklearn.ensemble import RandomForestClassifier\n",
    "from sklearn import metrics\n",
    "from sklearn.metrics import confusion_matrix, ConfusionMatrixDisplay\n",
    "import matplotlib.pyplot as plt\n",
    "from sklearn.neighbors import KNeighborsClassifier\n",
    "from warnings import simplefilter\n",
    "from ipaddress import IPv4Network\n",
    "import requests\n",
    "import seaborn as sns\n",
    "\n",
    "simplefilter(action='ignore', category=FutureWarning)\n",
    "index = 1\n",
    "dataset = [\"tester\", \"Friday-WorkingHours-Afternoon-DDos.pcap_ISCX\"]\n",
    "\n",
    "df = pd.read_csv(\"./dataset/MachineLearningCVE/\"+dataset[index]+ \".csv\")\n",
    "\n",
    "if dataset[index] == \"tester\":\n",
    "    df.drop([\"Flow ID\", \" Source IP\", \" Destination IP\", \" Timestamp\"], axis = 1, inplace = True)\n",
    "\n",
    "\n",
    "\n",
    "\n",
    "\n",
    "#convert good and bad to numbers\n",
    "df[\" Label\"].replace(\"BENIGN\", 0,  inplace = True)\n",
    "df[\" Label\"].replace(\"Bot\", 1,  inplace = True)\n",
    "df[\" Label\"].replace(\"DDoS\", 2, inplace = True)\n",
    "df[\" Label\"].replace(\"DoS Hulk\", 3, inplace = True)\n",
    "df[\" Label\"].replace(\"DoS Slow-httptest\", 4, inplace = True)\n",
    "df[\" Label\"].replace(\"FTP-Patator\", 5, inplace = True)\n",
    "df[\" Label\"].replace(\"Heartbleed\", 6, inplace = True)\n",
    "df[\" Label\"].replace(\"PortScan\", 7, inplace = True)\n",
    "df[\" Label\"].replace(\"SSH-Patator\", 8, inplace = True)\n",
    "df[\" Label\"].replace(\"DoS GoldenEye\", 9, inplace = True)\n",
    "df[\" Label\"].replace(\"DoS slowloris\", 10, inplace = True)\n",
    "df[\" Label\"].replace(\"Infiltration\", 11, inplace = True)\n",
    "df[\" Label\"].replace(\"Web Attack – Brute Force\", 12, inplace = True)\n",
    "df[\" Label\"].replace(\"Web Attack – Sql Injection \",13, inplace = True)\n",
    "df[\" Label\"].replace(\"DoS slowloris\", 14, inplace = True)\n",
    "df= df.replace([np.inf, -np.inf, np.nan, None], -999)\n",
    "\n",
    "\n",
    "# Define independent variables\n",
    "factors = df.iloc[ : , :-1].values \n",
    "\n",
    "\n",
    "\n",
    "# Define dependent variable\n",
    "labels=df.iloc[:,-1].values\n",
    "\n",
    "print(labels)\n",
    "\n",
    "\n",
    "\n",
    "\n",
    "# check if there are any NAs in dataset\n",
    "pd.set_option(\"display.max_rows\", None)\n",
    "\n",
    "# print(df.dtypes)\n",
    "\n",
    "x_train, x_test, y_train, y_test = train_test_split(factors, labels, test_size = 0.2, random_state = 20)\n",
    "\n",
    "\n",
    "model = RandomForestClassifier(n_estimators = 10, random_state=30)\n",
    "model.fit(x_train.astype(np.float64), y_train)\n",
    "predict = model.predict(x_test)\n",
    "\n",
    "\n",
    "# train the model\n",
    "clf = KNeighborsClassifier(n_neighbors=8)\n",
    "clf.fit(x_train, y_train)\n",
    "predictions = clf.predict(x_test)\n",
    "\n",
    "matrix = confusion_matrix( y_test, predictions, labels=clf.classes_)\n",
    "disp = ConfusionMatrixDisplay(confusion_matrix=matrix)\n",
    "\n",
    "\n",
    "\n",
    "print(\"Accuracy =\", str(metrics.accuracy_score(y_test, predict) * 100) + \"%\")\n",
    "\n"
   ]
  },
  {
   "cell_type": "code",
   "execution_count": 40,
   "id": "37ac8144",
   "metadata": {},
   "outputs": [
    {
     "data": {
      "image/png": "[encoded data removed]",
      "text/plain": [
       "<Figure size 800x600 with 2 Axes>"
      ]
     },
     "metadata": {},
     "output_type": "display_data"
    }
   ],
   "source": [
    "fig, ax = plt.subplots(figsize=(8, 6))\n",
    "disp.plot(cmap=plt.cm.Blues, ax=ax)\n",
    "# disp.ax_.set_xlabel(\"actual\")\n",
    "# disp.ax_.set_ylabel(\"predicted\")\n",
    "plt.show()\n"
   ]
  },
  {
   "cell_type": "code",
   "execution_count": null,
   "id": "b2f9dc1a",
   "metadata": {},
   "outputs": [],
   "source": []
  }
 ],
 "metadata": {
  "kernelspec": {
   "display_name": "Python 3 (ipykernel)",
   "language": "python",
   "name": "python3"
  },
  "language_info": {
   "codemirror_mode": {
    "name": "ipython",
    "version": 3
   },
   "file_extension": ".py",
   "mimetype": "text/x-python",
   "name": "python",
   "nbconvert_exporter": "python",
   "pygments_lexer": "ipython3",
   "version": "3.11.4"
  }
 },
 "nbformat": 4,
 "nbformat_minor": 5
}
