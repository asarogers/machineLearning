{
 "cells": [
  {
   "cell_type": "code",
   "execution_count": 1,
   "id": "43f77b2d",
   "metadata": {},
   "outputs": [
    {
     "name": "stdout",
     "output_type": "stream",
     "text": [
      "6'2, male =  214.4409635570787\n",
      "5'10, male =  198.60779279418938\n",
      "5'1, female =  158.73599116121977\n"
     ]
    }
   ],
   "source": [
    "import pandas as pd\n",
    "import numpy as np\n",
    "from sklearn.model_selection import train_test_split\n",
    "from sklearn import linear_model\n",
    "from sklearn.metrics import mean_squared_error, r2_score\n",
    "import seaborn as sns\n",
    "from sklearn.linear_model import LinearRegression\n",
    "from sklearn import metrics\n",
    "\n",
    "dataset = pd.read_csv(\"dataset/500_Person_Gender_Height_Weight_Index.csv\")\n",
    "datasetTest = pd.read_csv(\"dataset/SOCR-HeightWeight.csv\")\n",
    "\n",
    "model = linear_model.LinearRegression()\n",
    "lin_reg = LinearRegression()\n",
    "\n",
    "dataset[\"Gender\"].replace(\"Female\", 0,  inplace = True)\n",
    "dataset['Gender'].replace('Male',1, inplace=True)\n",
    "dataset = dataset.assign(Height = lambda x: x[\"Height\"]*0.0328084)\n",
    "dataset = dataset.assign(Weight = lambda x: x[\"Weight\"]*2.2)\n",
    "dataset  = dataset.loc[dataset[\"Index\"]  <= 4 ]\n",
    "# dataset = dataset.assign(Weight = lambda x: x[\"Weight\"]/0.0328084)\n",
    "\n",
    "x = dataset.iloc[:, : 2].values # weight & gender\n",
    "y = dataset.iloc[:, 2].values #height\n",
    "\n",
    "# # # train_features, test_features, train_labels, test_labels = train_test_split(features, labels,\n",
    "x_train, x_test, y_train, y_test = train_test_split(x, y, test_size = 0.25, random_state = 5)\n",
    "\n",
    "lin_reg.fit(x_train, y_train)\n",
    "model.fit(x_train, y_train)\n",
    "\n",
    "y_pred = model.predict(x_test)\n",
    "lin_pred = lin_reg.predict(x_test)\n",
    "\n",
    "weight_pred = model.predict([[1,5.83333333]])\n",
    "my_weight_pred = lin_reg.predict([[1,74/12]])\n",
    "female_pred = lin_reg.predict([[0,61/12]])\n",
    "\n",
    "\n",
    "print(\"6'2, male = \", my_weight_pred[0])\n",
    "print(\"5'10, male = \", weight_pred[0])\n",
    "print(\"5'1, female = \", female_pred[0])"
   ]
  },
  {
   "cell_type": "code",
   "execution_count": null,
   "id": "72a47a78-0ee3-4fe5-8994-efd0bd42ad0f",
   "metadata": {},
   "outputs": [],
   "source": []
  }
 ],
 "metadata": {
  "kernelspec": {
   "display_name": "Python 3 (ipykernel)",
   "language": "python",
   "name": "python3"
  },
  "language_info": {
   "codemirror_mode": {
    "name": "ipython",
    "version": 3
   },
   "file_extension": ".py",
   "mimetype": "text/x-python",
   "name": "python",
   "nbconvert_exporter": "python",
   "pygments_lexer": "ipython3",
   "version": "3.11.4"
  }
 },
 "nbformat": 4,
 "nbformat_minor": 5
}
